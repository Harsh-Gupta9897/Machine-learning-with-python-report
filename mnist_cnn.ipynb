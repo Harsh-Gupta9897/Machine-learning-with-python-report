{
  "nbformat": 4,
  "nbformat_minor": 0,
  "metadata": {
    "colab": {
      "name": "Untitled2.ipynb",
      "provenance": [],
      "private_outputs": true,
      "authorship_tag": "ABX9TyPjUKYWI40YVCHbFVGY1hzG",
      "include_colab_link": true
    },
    "kernelspec": {
      "name": "python3",
      "display_name": "Python 3"
    },
    "accelerator": "GPU"
  },
  "cells": [
    {
      "cell_type": "markdown",
      "metadata": {
        "id": "view-in-github",
        "colab_type": "text"
      },
      "source": [
        "<a href=\"https://colab.research.google.com/github/Harsh-Gupta9897/Machine-learning-with-python-report/blob/master/mnist_cnn.ipynb\" target=\"_parent\"><img src=\"https://colab.research.google.com/assets/colab-badge.svg\" alt=\"Open In Colab\"/></a>"
      ]
    },
    {
      "cell_type": "code",
      "metadata": {
        "id": "eQLqZl1mPp0D",
        "colab_type": "code",
        "colab": {}
      },
      "source": [
        "### YOUR CODE HERE ###\n",
        "import torch \n",
        "import torchvision\n",
        "from torchvision import transforms, datasets\n",
        "import torch.nn as nn\n",
        "import torch.nn.functional as F\n",
        "from tqdm.notebook import tqdm ,trange\n",
        "from torch.utils.data import DataLoader\n",
        "import matplotlib.pyplot as plt\n",
        "\n",
        "mnist_train = datasets.MNIST(root='./datasets',train=True,download=True, transform=transforms.ToTensor())\n",
        "mnist_test = datasets.MNIST(root='./datasets',train=False,download=True, transform=transforms.ToTensor())\n",
        "train_dataloader = DataLoader(mnist_train, batch_size=100, shuffle=True)\n",
        "test_dataloader = DataLoader(mnist_test, batch_size=100, shuffle=True)\n",
        "\n",
        "class Network(nn.Module):\n",
        "    def __init__(self):\n",
        "        super().__init__()\n",
        "        self.cnn1 = nn.Conv2d(1,32,kernel_size=3,padding=1)\n",
        "        self.cnn2 = nn.Conv2d(32,32,kernel_size=3,padding=1)\n",
        "        self.cnn3 = nn.Conv2d(32,64,kernel_size=3,padding=1)\n",
        "        self.cnn4 = nn.Conv2d(64,64,kernel_size=3,padding=1)\n",
        "        self.maxpool = nn.MaxPool2d(2,2)\n",
        "        self.fc1 = nn.Linear(7*7*64,256)\n",
        "        self.fc2 = nn.Linear(256,10)\n",
        "        \n",
        "    def forward(self,x):\n",
        "        x = F.relu(self.cnn1(x))\n",
        "        x = self.maxpool(F.relu(self.cnn2(x)))\n",
        "        x = F.relu(self.cnn3(x))\n",
        "        x = self.maxpool(F.relu(self.cnn4(x)))\n",
        "        \n",
        "        x = x.view(-1, 7*7*64)\n",
        "        x = self.fc1(x)\n",
        "        x = F.relu(x)\n",
        "        \n",
        "        # fc layer 2\n",
        "        x = self.fc2(x)\n",
        "        return x\n",
        "\n",
        "model = Network()\n",
        "optimizer = torch.optim.SGD(model.parameters(),lr=0.01)\n",
        "criterion = nn.CrossEntropyLoss()\n",
        "\n",
        "n_epochs = 5\n",
        "\n",
        "for epoch in trange(n_epochs):\n",
        "    for images,label in tqdm(train_dataloader):\n",
        "    \n",
        "        optimizer.zero_grad()\n",
        "        output = model(images)\n",
        "        loss = criterion(output,label)\n",
        "        loss.backward()\n",
        "        optimizer.step()\n",
        "        \n",
        "#testing\n",
        "\n",
        "correct = 0\n",
        "total = len(mnist_test)\n",
        "\n",
        "with torch.no_grad():\n",
        "    # Iterate through test set minibatchs \n",
        "    for images, labels in tqdm(test_dataloader):\n",
        "        # Forward pass\n",
        "        x = images  # <---- change here \n",
        "        y = model(x)\n",
        "\n",
        "        predictions = torch.argmax(y, dim=1)\n",
        "        correct += torch.sum((predictions == labels).float())\n",
        "\n",
        "print('Test accuracy: {}'.format(correct/total))\n",
        "\n",
        "\n",
        "\n",
        "\n",
        "\n",
        "\n",
        "\n",
        "\n",
        "\n",
        "\n",
        "\n",
        "\n",
        "\n",
        "\n",
        "\n",
        "\n",
        "\n",
        "\n"
      ],
      "execution_count": null,
      "outputs": []
    },
    {
      "cell_type": "code",
      "metadata": {
        "id": "VtcJEzbAP0G7",
        "colab_type": "code",
        "colab": {}
      },
      "source": [
        "correct = 0\n",
        "total = len(mnist_train)\n",
        "\n",
        "with torch.no_grad():\n",
        "    # Iterate through test set minibatchs \n",
        "    for images, labels in tqdm(train_dataloader):\n",
        "        # Forward pass\n",
        "        x = images  # <---- change here \n",
        "        y = model(x)\n",
        "\n",
        "        predictions = torch.argmax(y, dim=1)\n",
        "        correct += torch.sum((predictions == labels).float())\n",
        "\n",
        "print('Train accuracy: {}'.format(correct/total))"
      ],
      "execution_count": null,
      "outputs": []
    },
    {
      "cell_type": "code",
      "metadata": {
        "id": "2dmiv6YoTg1E",
        "colab_type": "code",
        "colab": {}
      },
      "source": [
        ""
      ],
      "execution_count": null,
      "outputs": []
    }
  ]
}